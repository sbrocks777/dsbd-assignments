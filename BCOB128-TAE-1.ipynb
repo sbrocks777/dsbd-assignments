{
 "cells": [
  {
   "cell_type": "markdown",
   "id": "5ebcc7e5",
   "metadata": {},
   "source": [
    "## Name: SUSHIL BHARDWAJ\n",
    "## ROLL NO: BCOB128\n",
    "## BATCH: B"
   ]
  },
  {
   "cell_type": "markdown",
   "id": "e3414645",
   "metadata": {},
   "source": [
    "---"
   ]
  },
  {
   "cell_type": "markdown",
   "id": "e696e589",
   "metadata": {},
   "source": [
    "```Importing required modules```"
   ]
  },
  {
   "cell_type": "code",
   "execution_count": 12,
   "id": "fc7d901d",
   "metadata": {},
   "outputs": [],
   "source": [
    "import pandas as pd"
   ]
  },
  {
   "cell_type": "markdown",
   "id": "45770fec",
   "metadata": {},
   "source": [
    "``` Reading data from csv file```"
   ]
  },
  {
   "cell_type": "code",
   "execution_count": 155,
   "id": "c37b4da9",
   "metadata": {},
   "outputs": [
    {
     "data": {
      "text/html": [
       "<div>\n",
       "<style scoped>\n",
       "    .dataframe tbody tr th:only-of-type {\n",
       "        vertical-align: middle;\n",
       "    }\n",
       "\n",
       "    .dataframe tbody tr th {\n",
       "        vertical-align: top;\n",
       "    }\n",
       "\n",
       "    .dataframe thead th {\n",
       "        text-align: right;\n",
       "    }\n",
       "</style>\n",
       "<table border=\"1\" class=\"dataframe\">\n",
       "  <thead>\n",
       "    <tr style=\"text-align: right;\">\n",
       "      <th></th>\n",
       "      <th>age</th>\n",
       "      <th>job</th>\n",
       "      <th>marital</th>\n",
       "      <th>education</th>\n",
       "      <th>default</th>\n",
       "      <th>balance</th>\n",
       "      <th>housing</th>\n",
       "      <th>loan</th>\n",
       "      <th>contact</th>\n",
       "      <th>day</th>\n",
       "      <th>month</th>\n",
       "      <th>duration</th>\n",
       "      <th>campaign</th>\n",
       "      <th>pdays</th>\n",
       "      <th>previous</th>\n",
       "      <th>poutcome</th>\n",
       "      <th>deposit</th>\n",
       "    </tr>\n",
       "  </thead>\n",
       "  <tbody>\n",
       "    <tr>\n",
       "      <th>0</th>\n",
       "      <td>41</td>\n",
       "      <td>services</td>\n",
       "      <td>married</td>\n",
       "      <td>unknown</td>\n",
       "      <td>no</td>\n",
       "      <td>88</td>\n",
       "      <td>yes</td>\n",
       "      <td>no</td>\n",
       "      <td>cellular</td>\n",
       "      <td>11</td>\n",
       "      <td>may</td>\n",
       "      <td>105</td>\n",
       "      <td>1</td>\n",
       "      <td>336</td>\n",
       "      <td>2</td>\n",
       "      <td>failure</td>\n",
       "      <td>no</td>\n",
       "    </tr>\n",
       "    <tr>\n",
       "      <th>1</th>\n",
       "      <td>56</td>\n",
       "      <td>technician</td>\n",
       "      <td>married</td>\n",
       "      <td>secondary</td>\n",
       "      <td>no</td>\n",
       "      <td>1938</td>\n",
       "      <td>no</td>\n",
       "      <td>yes</td>\n",
       "      <td>cellular</td>\n",
       "      <td>26</td>\n",
       "      <td>feb</td>\n",
       "      <td>229</td>\n",
       "      <td>1</td>\n",
       "      <td>192</td>\n",
       "      <td>4</td>\n",
       "      <td>success</td>\n",
       "      <td>yes</td>\n",
       "    </tr>\n",
       "    <tr>\n",
       "      <th>2</th>\n",
       "      <td>30</td>\n",
       "      <td>services</td>\n",
       "      <td>single</td>\n",
       "      <td>secondary</td>\n",
       "      <td>no</td>\n",
       "      <td>245</td>\n",
       "      <td>no</td>\n",
       "      <td>yes</td>\n",
       "      <td>cellular</td>\n",
       "      <td>8</td>\n",
       "      <td>jul</td>\n",
       "      <td>187</td>\n",
       "      <td>2</td>\n",
       "      <td>-1</td>\n",
       "      <td>0</td>\n",
       "      <td>unknown</td>\n",
       "      <td>no</td>\n",
       "    </tr>\n",
       "    <tr>\n",
       "      <th>3</th>\n",
       "      <td>34</td>\n",
       "      <td>management</td>\n",
       "      <td>single</td>\n",
       "      <td>tertiary</td>\n",
       "      <td>no</td>\n",
       "      <td>1396</td>\n",
       "      <td>yes</td>\n",
       "      <td>no</td>\n",
       "      <td>cellular</td>\n",
       "      <td>17</td>\n",
       "      <td>jul</td>\n",
       "      <td>630</td>\n",
       "      <td>1</td>\n",
       "      <td>-1</td>\n",
       "      <td>0</td>\n",
       "      <td>unknown</td>\n",
       "      <td>no</td>\n",
       "    </tr>\n",
       "    <tr>\n",
       "      <th>4</th>\n",
       "      <td>29</td>\n",
       "      <td>technician</td>\n",
       "      <td>single</td>\n",
       "      <td>secondary</td>\n",
       "      <td>no</td>\n",
       "      <td>-13</td>\n",
       "      <td>yes</td>\n",
       "      <td>no</td>\n",
       "      <td>cellular</td>\n",
       "      <td>14</td>\n",
       "      <td>may</td>\n",
       "      <td>512</td>\n",
       "      <td>3</td>\n",
       "      <td>-1</td>\n",
       "      <td>0</td>\n",
       "      <td>unknown</td>\n",
       "      <td>no</td>\n",
       "    </tr>\n",
       "  </tbody>\n",
       "</table>\n",
       "</div>"
      ],
      "text/plain": [
       "   age         job  marital  education default  balance housing loan  \\\n",
       "0   41    services  married    unknown      no       88     yes   no   \n",
       "1   56  technician  married  secondary      no     1938      no  yes   \n",
       "2   30    services   single  secondary      no      245      no  yes   \n",
       "3   34  management   single   tertiary      no     1396     yes   no   \n",
       "4   29  technician   single  secondary      no      -13     yes   no   \n",
       "\n",
       "    contact  day month  duration  campaign  pdays  previous poutcome deposit  \n",
       "0  cellular   11   may       105         1    336         2  failure      no  \n",
       "1  cellular   26   feb       229         1    192         4  success     yes  \n",
       "2  cellular    8   jul       187         2     -1         0  unknown      no  \n",
       "3  cellular   17   jul       630         1     -1         0  unknown      no  \n",
       "4  cellular   14   may       512         3     -1         0  unknown      no  "
      ]
     },
     "execution_count": 155,
     "metadata": {},
     "output_type": "execute_result"
    }
   ],
   "source": [
    "df = pd.read_csv('/home/sbrocks/Desktop/dsbd/bank-marketing.csv', index_col=[0])\n",
    "df.head()"
   ]
  },
  {
   "cell_type": "markdown",
   "id": "d16498ce",
   "metadata": {},
   "source": [
    "### 1. Write the python code to find the average age of the clients those who have subscribed to deposit"
   ]
  },
  {
   "cell_type": "code",
   "execution_count": 105,
   "id": "ce4c807c",
   "metadata": {},
   "outputs": [
    {
     "name": "stdout",
     "output_type": "stream",
     "text": [
      "Answer: 41.42677345537757\n"
     ]
    }
   ],
   "source": [
    "print(f\"Answer: {(df[df['deposit'] == 'yes'][['age']].mean())['age']}\")"
   ]
  },
  {
   "cell_type": "markdown",
   "id": "509ec4c9",
   "metadata": {},
   "source": [
    "### 2. Write the python code to find the maximum number of contacts performed during the campaign for the clients who have not subscribed to deposit?"
   ]
  },
  {
   "cell_type": "code",
   "execution_count": 99,
   "id": "7432f50b",
   "metadata": {},
   "outputs": [
    {
     "name": "stdout",
     "output_type": "stream",
     "text": [
      "Answer: 63\n"
     ]
    }
   ],
   "source": [
    "print(f\"Answer: {(df[df['deposit'] == 'no'][['campaign']].max())['campaign']}\")"
   ]
  },
  {
   "cell_type": "markdown",
   "id": "5fec4133",
   "metadata": {},
   "source": [
    "### 3. Write the python code to find the difference between the maximum balance (in euros) for the clients who have subscribed to deposit and for the clients who have not subscribed to the deposit?"
   ]
  },
  {
   "cell_type": "code",
   "execution_count": 120,
   "id": "2990061d",
   "metadata": {},
   "outputs": [
    {
     "name": "stdout",
     "output_type": "stream",
     "text": [
      "Answer: 24373\n"
     ]
    }
   ],
   "source": [
    "yes_max_balance = df[df['deposit'] == 'yes'][['balance']].max()['balance']\n",
    "no_max_balance = df[df['deposit'] == 'no'][['balance']].max()['balance']\n",
    "print(f\"Answer: {yes_max_balance - no_max_balance}\")"
   ]
  },
  {
   "cell_type": "markdown",
   "id": "6a78d70b",
   "metadata": {},
   "source": [
    "### 4. Write the python code to find the count of unique job levels in the data and find out how many clients are in the management level?"
   ]
  },
  {
   "cell_type": "code",
   "execution_count": 224,
   "id": "7034bfdd",
   "metadata": {},
   "outputs": [
    {
     "name": "stdout",
     "output_type": "stream",
     "text": [
      "Answer: unique_job_levels: 12, clients_in_management_level_job: 1318\n"
     ]
    }
   ],
   "source": [
    "unique_jobs = df['job'].unique()\n",
    "management_jobs = df[df['job'] == 'management']['job'].count()\n",
    "print(f\"Answer: unique_job_levels: {len(unique_jobs)}, clients_in_management_level_job: {management_jobs}\")"
   ]
  }
 ],
 "metadata": {
  "kernelspec": {
   "display_name": "env",
   "language": "python",
   "name": "env"
  },
  "language_info": {
   "codemirror_mode": {
    "name": "ipython",
    "version": 3
   },
   "file_extension": ".py",
   "mimetype": "text/x-python",
   "name": "python",
   "nbconvert_exporter": "python",
   "pygments_lexer": "ipython3",
   "version": "3.8.10"
  }
 },
 "nbformat": 4,
 "nbformat_minor": 5
}
